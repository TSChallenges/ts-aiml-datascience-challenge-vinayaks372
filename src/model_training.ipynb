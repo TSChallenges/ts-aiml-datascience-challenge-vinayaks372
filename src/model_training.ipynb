{
 "cells": [
  {
   "cell_type": "code",
   "execution_count": 3,
   "id": "5db3ed14",
   "metadata": {},
   "outputs": [
    {
     "name": "stdout",
     "output_type": "stream",
     "text": [
      "Accuracy: 0.8470\n",
      "F1 Score: 0.5578\n"
     ]
    }
   ],
   "source": [
    "# src/model_training.py\n",
    "\n",
    "import pandas as pd\n",
    "from sklearn.model_selection import train_test_split\n",
    "from sklearn.ensemble import RandomForestClassifier\n",
    "#from xgboost import XGBClassifier\n",
    "from sklearn.metrics import accuracy_score, f1_score\n",
    "\n",
    "def load_processed_data(filepath):\n",
    "    df = pd.read_csv(filepath)\n",
    "    return df\n",
    "\n",
    "def define_features_target(df):\n",
    "    x = df.drop('churn', axis=1)\n",
    "    y = df['churn']\n",
    "    return x, y\n",
    "\n",
    "def train_model(x_train, y_train):\n",
    "    model = RandomForestClassifier(n_estimators=100, random_state=42)\n",
    "    model.fit(x_train, y_train)\n",
    "    \n",
    "    return model\n",
    "\n",
    "def evaluate_model(model, x_test, y_test):\n",
    "    y_pred = model.predict(x_test)\n",
    "    accuracy = accuracy_score(y_test, y_pred)\n",
    "    f1 = f1_score(y_test, y_pred)\n",
    "    print(f\"Accuracy: {accuracy:.4f}\")\n",
    "    print(f\"F1 Score: {f1:.4f}\")\n",
    "    return accuracy, f1\n",
    "\n",
    "def main():\n",
    "    # Load processed data\n",
    "    df = load_processed_data(\"/workspaces/ts-aiml-datascience-challenge-vinayaks372/data/processed_bank_churn.csv\") # for file path , right click on bank_churn.csv and copy the path\n",
    "\n",
    "    \n",
    "    # Define features and target\n",
    "    x, y = define_features_target(df)\n",
    "\n",
    "    # Split into training and testing sets\n",
    "    \n",
    "    x_train, x_test, y_train, y_test = train_test_split(x, y, test_size=0.2)\n",
    "    \n",
    "    model = train_model(x_train, y_train)\n",
    "    evaluate_model(model, x_test, y_test)\n",
    "\n",
    "if __name__ == \"__main__\":\n",
    "    main()\n"
   ]
  }
 ],
 "metadata": {
  "kernelspec": {
   "display_name": "Python 3 (ipykernel)",
   "language": "python",
   "name": "python3"
  },
  "language_info": {
   "codemirror_mode": {
    "name": "ipython",
    "version": 3
   },
   "file_extension": ".py",
   "mimetype": "text/x-python",
   "name": "python",
   "nbconvert_exporter": "python",
   "pygments_lexer": "ipython3",
   "version": "3.12.1"
  }
 },
 "nbformat": 4,
 "nbformat_minor": 5
}
