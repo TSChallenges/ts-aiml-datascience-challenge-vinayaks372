{
 "cells": [
  {
   "cell_type": "code",
   "execution_count": 2,
   "id": "1f31be23",
   "metadata": {},
   "outputs": [],
   "source": [
    "# src/feature_engineering.py\n",
    "\n",
    "import pandas as pd\n",
    "from sklearn.preprocessing import LabelEncoder\n",
    "\n",
    "def load_data(filepath):\n",
    "    df = pd.read_csv(filepath)\n",
    "    return df\n",
    "\n",
    "def handle_missing_values(df):\n",
    "    numerical_cols = df.select_dtypes(include=['number']).columns\n",
    "    df[numerical_cols] = df[numerical_cols].apply(lambda col: col.fillna(col.mean()))\n",
    "\n",
    "    categorical_cols = df.select_dtypes(include=['object']).columns\n",
    "    df[categorical_cols] = df[categorical_cols].apply(lambda col: col.fillna(col.mode()[0]))\n",
    "\n",
    "    return df\n",
    "\n",
    "def create_age_groups(df):\n",
    "    bins = [17, 30, 45, 60, 100]  # Age ranges\n",
    "    labels = ['young', 'adult', 'middle-aged', 'senior']  # Labels for age groups\n",
    "    #todo: create age groups\n",
    "    df = df.dropna(subset='age')\n",
    "    df['age_range'] = pd.cut(df['age'], bins, labels=labels)\n",
    "\n",
    "    return df\n",
    "\n",
    "def encode_categorical_features(df):\n",
    "    le = LabelEncoder()\n",
    "    categorical_cols = ['country', 'gender', 'credit_card', 'age_range']\n",
    "\n",
    "    for col in categorical_cols:\n",
    "        df[col] = le.fit_transform(df[col])\n",
    "    return df\n",
    "\n",
    "def save_processed_data(df, filepath):\n",
    "    df.to_csv(filepath, index=False)\n",
    "\n",
    "def main():\n",
    "    df = load_data(\"/workspaces/ts-aiml-datascience-challenge-vinayaks372/data/bank_churn.csv\")\n",
    "\n",
    "    df = handle_missing_values(df)\n",
    "    \n",
    "    df = create_age_groups(df)\n",
    "    \n",
    "    df = encode_categorical_features(df)\n",
    "    \n",
    "    save_processed_data(df, '/workspaces/ts-aiml-datascience-challenge-vinayaks372/data/processed_bank_churn.csv') \n",
    "\n",
    "if __name__ == \"__main__\":\n",
    "    main()"
   ]
  },
  {
   "cell_type": "code",
   "execution_count": null,
   "id": "ef19ebf4",
   "metadata": {},
   "outputs": [],
   "source": []
  },
  {
   "cell_type": "code",
   "execution_count": null,
   "id": "5b23bec9",
   "metadata": {},
   "outputs": [],
   "source": []
  }
 ],
 "metadata": {
  "kernelspec": {
   "display_name": "Python 3 (ipykernel)",
   "language": "python",
   "name": "python3"
  },
  "language_info": {
   "codemirror_mode": {
    "name": "ipython",
    "version": 3
   },
   "file_extension": ".py",
   "mimetype": "text/x-python",
   "name": "python",
   "nbconvert_exporter": "python",
   "pygments_lexer": "ipython3",
   "version": "3.12.1"
  }
 },
 "nbformat": 4,
 "nbformat_minor": 5
}
